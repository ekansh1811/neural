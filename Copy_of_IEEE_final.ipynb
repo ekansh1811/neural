{
  "nbformat": 4,
  "nbformat_minor": 0,
  "metadata": {
    "colab": {
      "provenance": [],
      "include_colab_link": true
    },
    "kernelspec": {
      "name": "python3",
      "display_name": "Python 3"
    },
    "language_info": {
      "name": "python"
    },
    "accelerator": "GPU",
    "gpuClass": "standard"
  },
  "cells": [
    {
      "cell_type": "markdown",
      "metadata": {
        "id": "view-in-github",
        "colab_type": "text"
      },
      "source": [
        "<a href=\"https://colab.research.google.com/github/ekansh1811/neural/blob/try-1/Copy_of_IEEE_final.ipynb\" target=\"_parent\"><img src=\"https://colab.research.google.com/assets/colab-badge.svg\" alt=\"Open In Colab\"/></a>"
      ]
    },
    {
      "cell_type": "markdown",
      "source": [
        "# **IEEE FINAL ROUND**\n",
        "\n",
        "(Explanation in the end)\n",
        "\n",
        "some changes\n",
        "\n",
        "---\n",
        "\n"
      ],
      "metadata": {
        "id": "YhVxHcBvf62x"
      }
    },
    {
      "cell_type": "code",
      "execution_count": null,
      "metadata": {
        "id": "NCOfrNccJAzJ"
      },
      "outputs": [],
      "source": [
        "import torch\n",
        "from torch import nn\n",
        "from torch.utils.data import DataLoader\n",
        "from torchvision import datasets\n",
        "from torchvision.transforms import ToTensor\n",
        "import matplotlib.pyplot as plt"
      ]
    },
    {
      "cell_type": "code",
      "source": [
        "data_train = datasets.MNIST(\n",
        "    root = \"Data\",\n",
        "    train = True,\n",
        "    download = True,\n",
        "    transform = ToTensor(),\n",
        ")\n",
        "\n",
        "\n",
        "data_test = datasets.MNIST(\n",
        "    root = \"Data\",\n",
        "    train = False,\n",
        "    download = False,\n",
        "    transform = ToTensor(),\n",
        ")"
      ],
      "metadata": {
        "id": "v6qoI25pKGsM"
      },
      "execution_count": null,
      "outputs": []
    },
    {
      "cell_type": "markdown",
      "source": [
        "This is used to pre-load the MNIST dataset into 2 different datasets which are used to train and test the model"
      ],
      "metadata": {
        "id": "DpdGc1STgMt0"
      }
    },
    {
      "cell_type": "code",
      "source": [
        "batch_size = 256\n",
        "train_data = DataLoader(data_train, batch_size = batch_size)\n",
        "test_data = DataLoader(data_test, batch_size = batch_size)"
      ],
      "metadata": {
        "id": "qHJ18yn4K0vI"
      },
      "execution_count": null,
      "outputs": []
    },
    {
      "cell_type": "markdown",
      "source": [
        "This loads the data into the respective datasets"
      ],
      "metadata": {
        "id": "EB0tPTlegmvp"
      }
    },
    {
      "cell_type": "code",
      "source": [
        "device = \"cuda\" if torch.cuda.is_available() else \"cpu\"\n",
        "print(f\"Using {device} device\")"
      ],
      "metadata": {
        "id": "cEgiP3E6L3KU",
        "colab": {
          "base_uri": "https://localhost:8080/"
        },
        "outputId": "e3e629b0-d1cc-4e88-8e20-3de26e0637a8"
      },
      "execution_count": null,
      "outputs": [
        {
          "output_type": "stream",
          "name": "stdout",
          "text": [
            "Using cuda device\n"
          ]
        }
      ]
    },
    {
      "cell_type": "markdown",
      "source": [
        "This is required to use the gpu which is required for data processing"
      ],
      "metadata": {
        "id": "Pndhf1gwhOxE"
      }
    },
    {
      "cell_type": "code",
      "source": [
        "input_size = 784\n",
        "hidden_size = 32\n",
        "hidden_size_2 = 32\n",
        "num_classes = 10\n",
        "class NeuralNetwork(nn.Module):\n",
        "      def __init__(self, input_size, hidden_size, hidden_size_2, num_classes):\n",
        "              super(NeuralNetwork, self).__init__()\n",
        "              self.input_size = input_size\n",
        "              self.l1 = nn.Linear(input_size, hidden_size) \n",
        "              self.relu = nn.ReLU()\n",
        "              self.l2 = nn.Linear(hidden_size, hidden_size_2)\n",
        "              self.relu = nn.ReLU()\n",
        "              self.l3 = nn.Linear(hidden_size_2,num_classes)\n",
        "      def forward(self, x):\n",
        "         out = self.l1(x)\n",
        "         out = self.relu(out)\n",
        "         out = self.l2(out)\n",
        "         out = self.relu(out)\n",
        "         out = self.l3(out)\n",
        "         return out"
      ],
      "metadata": {
        "id": "Unaf_D7PbQnL"
      },
      "execution_count": null,
      "outputs": []
    },
    {
      "cell_type": "markdown",
      "source": [
        "This defines the main model using classes."
      ],
      "metadata": {
        "id": "lsbwUJCkiQtw"
      }
    },
    {
      "cell_type": "code",
      "source": [
        "model = NeuralNetwork(input_size, hidden_size, hidden_size_2, num_classes).to(device)"
      ],
      "metadata": {
        "id": "VNpSftmucldz"
      },
      "execution_count": null,
      "outputs": []
    },
    {
      "cell_type": "markdown",
      "source": [
        "This creates the model by calling the function"
      ],
      "metadata": {
        "id": "Aa60vMXljgof"
      }
    },
    {
      "cell_type": "code",
      "source": [
        "learning_rate = 0.01\n",
        "criterion = nn.CrossEntropyLoss()\n",
        "optimizer = torch.optim.SGD(model.parameters(), lr=learning_rate, momentum=0.9)"
      ],
      "metadata": {
        "id": "F4_Clq31co6M"
      },
      "execution_count": null,
      "outputs": []
    },
    {
      "cell_type": "markdown",
      "source": [
        "This the loss function and the optimizer, I tried using different values for learning rate and momentum but found this as the most suitable parameters."
      ],
      "metadata": {
        "id": "PaWKtnFHjxpl"
      }
    },
    {
      "cell_type": "code",
      "source": [
        "num_runs = 20\n",
        "run_loss = []\n",
        "run_1 = [0,0]\n",
        "runs = 0\n",
        "for k in range(2):\n",
        "  ctr = 0\n",
        "  ctr_2 = 0\n",
        "  while True:\n",
        "\n",
        "\n",
        "      for i, (images, labels) in enumerate(train_data):  \n",
        "          images = images.reshape(-1, 28*28).to(device)\n",
        "          labels = labels.to(device)\n",
        "          outputs = model(images)\n",
        "          loss = criterion(outputs, labels)\n",
        "          optimizer.zero_grad()\n",
        "          loss.backward()\n",
        "          optimizer.step()\n",
        "          run_loss.append(loss.item())\n",
        "\n",
        "\n",
        "\n",
        "      with torch.no_grad():\n",
        "            n_correct = 0\n",
        "            n_samples = 0\n",
        "            n_samples_l = []\n",
        "            n_correct_l = []\n",
        "            for images, labels in test_data:\n",
        "                images = images.reshape(-1, 28*28).to(device)\n",
        "                labels = labels.to(device)\n",
        "                outputs = model(images)\n",
        "                _, predicted = torch.max(outputs.data, 1)\n",
        "                n_samples += labels.size(0)\n",
        "                n_correct += (predicted == labels).sum().item()\n",
        "                n_correct_l+= [100*n_correct/n_samples]\n",
        "                n_samples_l += [n_samples]\n",
        "      acc = 100.0 * n_correct / n_samples\n",
        "      print(acc)\n",
        "\n",
        "\n",
        "\n",
        "\n",
        "\n",
        "      if (i+1) % 235 == 0:\n",
        "                    print (f'runs [{runs+1}], Loss: {loss.item():.4f}')\n",
        "                    run_1+=[acc]\n",
        "                    ctr+=1\n",
        "                    runs+=1\n",
        "                    if ctr>0:\n",
        "                      print('\\n\\n')\n",
        "                      if run_1[len(run_1)-1]>95 and ((((run_1[len(run_1)-3])==(run_1[len(run_1)-2])) and ((run_1[len(run_1)-2])==(run_1[len(run_1)-1]))) or (run_1[len(run_1)-1]<run_1[len(run_1)-2])):\n",
        "                        ctr_2+=1\n",
        "                        break\n",
        "      if ctr_2>0:\n",
        "        break\n",
        "plt.plot(run_1[2:]);"
      ],
      "metadata": {
        "colab": {
          "base_uri": "https://localhost:8080/",
          "height": 1000
        },
        "id": "Gb7XjgL-dRVW",
        "outputId": "06141dbd-5d44-4a01-92cc-07e2445ea5dd"
      },
      "execution_count": null,
      "outputs": [
        {
          "output_type": "stream",
          "name": "stdout",
          "text": [
            "86.97\n",
            "runs [1], Loss: 0.4988\n",
            "\n",
            "\n",
            "\n",
            "90.44\n",
            "runs [2], Loss: 0.3758\n",
            "\n",
            "\n",
            "\n",
            "91.68\n",
            "runs [3], Loss: 0.3403\n",
            "\n",
            "\n",
            "\n",
            "92.55\n",
            "runs [4], Loss: 0.3231\n",
            "\n",
            "\n",
            "\n",
            "93.28\n",
            "runs [5], Loss: 0.3076\n",
            "\n",
            "\n",
            "\n",
            "93.7\n",
            "runs [6], Loss: 0.2913\n",
            "\n",
            "\n",
            "\n",
            "94.15\n",
            "runs [7], Loss: 0.2791\n",
            "\n",
            "\n",
            "\n",
            "94.44\n",
            "runs [8], Loss: 0.2680\n",
            "\n",
            "\n",
            "\n",
            "94.71\n",
            "runs [9], Loss: 0.2560\n",
            "\n",
            "\n",
            "\n",
            "94.94\n",
            "runs [10], Loss: 0.2466\n",
            "\n",
            "\n",
            "\n",
            "95.11\n",
            "runs [11], Loss: 0.2397\n",
            "\n",
            "\n",
            "\n",
            "95.2\n",
            "runs [12], Loss: 0.2321\n",
            "\n",
            "\n",
            "\n",
            "95.32\n",
            "runs [13], Loss: 0.2224\n",
            "\n",
            "\n",
            "\n",
            "95.47\n",
            "runs [14], Loss: 0.2161\n",
            "\n",
            "\n",
            "\n",
            "95.57\n",
            "runs [15], Loss: 0.2102\n",
            "\n",
            "\n",
            "\n",
            "95.68\n",
            "runs [16], Loss: 0.2034\n",
            "\n",
            "\n",
            "\n",
            "95.76\n",
            "runs [17], Loss: 0.1985\n",
            "\n",
            "\n",
            "\n",
            "95.88\n",
            "runs [18], Loss: 0.1961\n",
            "\n",
            "\n",
            "\n",
            "95.92\n",
            "runs [19], Loss: 0.1916\n",
            "\n",
            "\n",
            "\n",
            "96.0\n",
            "runs [20], Loss: 0.1884\n",
            "\n",
            "\n",
            "\n",
            "96.07\n",
            "runs [21], Loss: 0.1854\n",
            "\n",
            "\n",
            "\n",
            "96.09\n",
            "runs [22], Loss: 0.1834\n",
            "\n",
            "\n",
            "\n",
            "96.15\n",
            "runs [23], Loss: 0.1809\n",
            "\n",
            "\n",
            "\n",
            "96.18\n",
            "runs [24], Loss: 0.1787\n",
            "\n",
            "\n",
            "\n",
            "96.24\n",
            "runs [25], Loss: 0.1761\n",
            "\n",
            "\n",
            "\n",
            "96.24\n",
            "runs [26], Loss: 0.1733\n",
            "\n",
            "\n",
            "\n",
            "96.27\n",
            "runs [27], Loss: 0.1704\n",
            "\n",
            "\n",
            "\n",
            "96.27\n",
            "runs [28], Loss: 0.1674\n",
            "\n",
            "\n",
            "\n",
            "96.36\n",
            "runs [29], Loss: 0.1665\n",
            "\n",
            "\n",
            "\n",
            "96.37\n",
            "runs [30], Loss: 0.1644\n",
            "\n",
            "\n",
            "\n",
            "96.42\n",
            "runs [31], Loss: 0.1616\n",
            "\n",
            "\n",
            "\n",
            "96.48\n",
            "runs [32], Loss: 0.1615\n",
            "\n",
            "\n",
            "\n",
            "96.49\n",
            "runs [33], Loss: 0.1578\n",
            "\n",
            "\n",
            "\n",
            "96.48\n",
            "runs [34], Loss: 0.1535\n",
            "\n",
            "\n",
            "\n",
            "96.53\n",
            "runs [35], Loss: 0.1513\n",
            "\n",
            "\n",
            "\n",
            "96.48\n",
            "runs [36], Loss: 0.1476\n",
            "\n",
            "\n",
            "\n"
          ]
        },
        {
          "output_type": "display_data",
          "data": {
            "text/plain": [
              "<Figure size 432x288 with 1 Axes>"
            ],
            "image/png": "[encoded data removed]"
          },
          "metadata": {
            "needs_background": "light"
          }
        }
      ]
    },
    {
      "cell_type": "markdown",
      "source": [
        "This trains the model and prints which iteration is going on. It also gives the loss and accuracy in percentage, which is used to plot a graph which displays the accuracy with every iteration done in the loop.\n",
        "\n",
        "It trains the model till accuracy becomes constant for more than 2 values or it starts decreasing.\n",
        "\n",
        "The model a few times while training gives lower accuracy in one iteration but increases in the next, to prevent this unexpected event i ran the loop twice which would run the same conditions giving it a better chance to reach a higher value.\n",
        "\n",
        "I had given an initial values of 0 in the list which stores the data to prevent index error in the termintation function at the first couple of values."
      ],
      "metadata": {
        "id": "3zo4NJVmkKJE"
      }
    },
    {
      "cell_type": "code",
      "source": [
        "plt.plot(run_1[2:]);"
      ],
      "metadata": {
        "colab": {
          "base_uri": "https://localhost:8080/",
          "height": 265
        },
        "id": "PtogO2ZjB52y",
        "outputId": "daa5032c-6cf0-4ef2-8d2c-c19e43f11975"
      },
      "execution_count": null,
      "outputs": [
        {
          "output_type": "display_data",
          "data": {
            "text/plain": [
              "<Figure size 432x288 with 1 Axes>"
            ],
            "image/png": "[encoded data removed]"
          },
          "metadata": {
            "needs_background": "light"
          }
        }
      ]
    },
    {
      "cell_type": "code",
      "source": [
        "with torch.no_grad():\n",
        "     n_correct = 0\n",
        "     n_samples = 0\n",
        "     n_samples_l = []\n",
        "     n_correct_l = []\n",
        "     for images, labels in test_data:\n",
        "         images = images.reshape(-1, 28*28).to(device)\n",
        "         labels = labels.to(device)\n",
        "         outputs = model(images)\n",
        "         _, predicted = torch.max(outputs.data, 1)\n",
        "         n_samples += labels.size(0)\n",
        "         n_correct += (predicted == labels).sum().item()\n",
        "         n_correct_l+= [100*n_correct/n_samples]\n",
        "         n_samples_l += [n_samples]\n",
        "acc = 100.0 * n_correct / n_samples\n",
        "plt.plot(n_samples_l,n_correct_l)\n",
        "print(acc)\n"
      ],
      "metadata": {
        "colab": {
          "base_uri": "https://localhost:8080/",
          "height": 282
        },
        "id": "7yYxeIZzeh0g",
        "outputId": "93b84e32-6afe-49d6-ec9f-bc357484fa10"
      },
      "execution_count": null,
      "outputs": [
        {
          "output_type": "stream",
          "name": "stdout",
          "text": [
            "96.48\n"
          ]
        },
        {
          "output_type": "display_data",
          "data": {
            "text/plain": [
              "<Figure size 432x288 with 1 Axes>"
            ],
            "image/png": "[encoded data removed]"
          },
          "metadata": {
            "needs_background": "light"
          }
        }
      ]
    },
    {
      "cell_type": "markdown",
      "source": [
        "This function is used to test the model with the 10000 test images given in the MNIST dataset.\n",
        "\n",
        "The Final accuracy is also displayed.\n",
        "\n",
        "This gives the graph of the change in accuracy with each test from the dataset."
      ],
      "metadata": {
        "id": "72A8nqznlap0"
      }
    },
    {
      "cell_type": "code",
      "source": [
        "torch.save(model.state_dict(), \"model.pth\")\n",
        "print(\"Saved PyTorch Model State to model.pth\")"
      ],
      "metadata": {
        "id": "7P2RQnKxiNrY",
        "colab": {
          "base_uri": "https://localhost:8080/"
        },
        "outputId": "135df7f6-7673-441f-9cee-636c00e9cf49"
      },
      "execution_count": null,
      "outputs": [
        {
          "output_type": "stream",
          "name": "stdout",
          "text": [
            "Saved PyTorch Model State to model.pth\n"
          ]
        }
      ]
    },
    {
      "cell_type": "markdown",
      "source": [
        "This saves the Model in its current trained state."
      ],
      "metadata": {
        "id": "rH64brDkmFTd"
      }
    },
    {
      "cell_type": "code",
      "source": [
        "model = NeuralNetwork(input_size, hidden_size, hidden_size_2, num_classes).to(device)\n",
        "model.load_state_dict(torch.load(\"model.pth\"))"
      ],
      "metadata": {
        "colab": {
          "base_uri": "https://localhost:8080/"
        },
        "id": "dRGF3TvctV-e",
        "outputId": "1ad7ee7b-4aa7-4aa4-a541-bb7279d75c1c"
      },
      "execution_count": null,
      "outputs": [
        {
          "output_type": "execute_result",
          "data": {
            "text/plain": [
              "<All keys matched successfully>"
            ]
          },
          "metadata": {},
          "execution_count": 52
        }
      ]
    },
    {
      "cell_type": "markdown",
      "source": [
        "This is used to call and load the trained model."
      ],
      "metadata": {
        "id": "LkZhUBFPmHJJ"
      }
    },
    {
      "cell_type": "code",
      "source": [
        "\n",
        "with torch.no_grad():\n",
        "     n_correct = 0\n",
        "     n_samples = 0\n",
        "     n_samples_l = []\n",
        "     n_correct_l = []\n",
        "     c = 0\n",
        "     for images, labels in test_data:\n",
        "         image = images\n",
        "         images = images.reshape(-1, 28*28).to(device)\n",
        "         labels = labels.to(device)\n",
        "         outputs = model(images)\n",
        "         # max returns (value ,index)\n",
        "         _, predicted = torch.max(outputs.data, 1)\n",
        "         for i in range(5):\n",
        "          a = predicted[i]\n",
        "          b = labels[i]\n",
        "          if a!=b:\n",
        "            c+=1\n",
        "          print(\"prediction:\",a.item(),\"Actual:\",b.item())\n",
        "         \n",
        "\n"
      ],
      "metadata": {
        "id": "w-l4tyo7vawa",
        "colab": {
          "base_uri": "https://localhost:8080/"
        },
        "outputId": "bf63dc2b-8981-4041-9af4-443a09aa0a40"
      },
      "execution_count": null,
      "outputs": [
        {
          "output_type": "stream",
          "name": "stdout",
          "text": [
            "prediction: 7 Actual: 7\n",
            "prediction: 2 Actual: 2\n",
            "prediction: 1 Actual: 1\n",
            "prediction: 0 Actual: 0\n",
            "prediction: 4 Actual: 4\n",
            "prediction: 2 Actual: 2\n",
            "prediction: 8 Actual: 8\n",
            "prediction: 2 Actual: 2\n",
            "prediction: 0 Actual: 6\n",
            "prediction: 8 Actual: 8\n",
            "prediction: 2 Actual: 2\n",
            "prediction: 2 Actual: 2\n",
            "prediction: 6 Actual: 6\n",
            "prediction: 3 Actual: 3\n",
            "prediction: 2 Actual: 2\n",
            "prediction: 1 Actual: 1\n",
            "prediction: 6 Actual: 6\n",
            "prediction: 4 Actual: 4\n",
            "prediction: 7 Actual: 7\n",
            "prediction: 1 Actual: 1\n",
            "prediction: 8 Actual: 4\n",
            "prediction: 1 Actual: 1\n",
            "prediction: 8 Actual: 8\n",
            "prediction: 1 Actual: 1\n",
            "prediction: 3 Actual: 3\n",
            "prediction: 1 Actual: 1\n",
            "prediction: 5 Actual: 5\n",
            "prediction: 9 Actual: 9\n",
            "prediction: 2 Actual: 7\n",
            "prediction: 3 Actual: 3\n",
            "prediction: 6 Actual: 6\n",
            "prediction: 6 Actual: 6\n",
            "prediction: 2 Actual: 2\n",
            "prediction: 3 Actual: 3\n",
            "prediction: 7 Actual: 7\n",
            "prediction: 7 Actual: 7\n",
            "prediction: 9 Actual: 9\n",
            "prediction: 0 Actual: 0\n",
            "prediction: 2 Actual: 2\n",
            "prediction: 0 Actual: 0\n",
            "prediction: 7 Actual: 7\n",
            "prediction: 9 Actual: 9\n",
            "prediction: 8 Actual: 8\n",
            "prediction: 1 Actual: 1\n",
            "prediction: 8 Actual: 8\n",
            "prediction: 0 Actual: 0\n",
            "prediction: 3 Actual: 3\n",
            "prediction: 4 Actual: 4\n",
            "prediction: 4 Actual: 4\n",
            "prediction: 3 Actual: 3\n",
            "prediction: 3 Actual: 3\n",
            "prediction: 8 Actual: 8\n",
            "prediction: 6 Actual: 6\n",
            "prediction: 7 Actual: 7\n",
            "prediction: 7 Actual: 7\n",
            "prediction: 1 Actual: 1\n",
            "prediction: 0 Actual: 0\n",
            "prediction: 4 Actual: 4\n",
            "prediction: 4 Actual: 4\n",
            "prediction: 7 Actual: 7\n",
            "prediction: 8 Actual: 8\n",
            "prediction: 2 Actual: 1\n",
            "prediction: 3 Actual: 3\n",
            "prediction: 9 Actual: 9\n",
            "prediction: 4 Actual: 4\n",
            "prediction: 7 Actual: 7\n",
            "prediction: 7 Actual: 7\n",
            "prediction: 2 Actual: 2\n",
            "prediction: 6 Actual: 6\n",
            "prediction: 4 Actual: 4\n",
            "prediction: 0 Actual: 0\n",
            "prediction: 7 Actual: 7\n",
            "prediction: 1 Actual: 1\n",
            "prediction: 9 Actual: 9\n",
            "prediction: 8 Actual: 8\n",
            "prediction: 9 Actual: 9\n",
            "prediction: 4 Actual: 4\n",
            "prediction: 9 Actual: 9\n",
            "prediction: 1 Actual: 1\n",
            "prediction: 2 Actual: 2\n",
            "prediction: 8 Actual: 8\n",
            "prediction: 3 Actual: 3\n",
            "prediction: 2 Actual: 2\n",
            "prediction: 7 Actual: 7\n",
            "prediction: 2 Actual: 2\n",
            "prediction: 3 Actual: 3\n",
            "prediction: 0 Actual: 0\n",
            "prediction: 2 Actual: 2\n",
            "prediction: 5 Actual: 5\n",
            "prediction: 5 Actual: 5\n",
            "prediction: 8 Actual: 8\n",
            "prediction: 4 Actual: 4\n",
            "prediction: 9 Actual: 9\n",
            "prediction: 0 Actual: 0\n",
            "prediction: 7 Actual: 7\n",
            "prediction: 1 Actual: 1\n",
            "prediction: 7 Actual: 7\n",
            "prediction: 4 Actual: 4\n",
            "prediction: 5 Actual: 5\n",
            "prediction: 7 Actual: 7\n",
            "prediction: 2 Actual: 2\n",
            "prediction: 7 Actual: 7\n",
            "prediction: 7 Actual: 7\n",
            "prediction: 4 Actual: 4\n",
            "prediction: 0 Actual: 0\n",
            "prediction: 8 Actual: 8\n",
            "prediction: 9 Actual: 9\n",
            "prediction: 6 Actual: 6\n",
            "prediction: 8 Actual: 8\n",
            "prediction: 8 Actual: 8\n",
            "prediction: 5 Actual: 5\n",
            "prediction: 5 Actual: 5\n",
            "prediction: 2 Actual: 2\n",
            "prediction: 3 Actual: 3\n",
            "prediction: 2 Actual: 2\n",
            "prediction: 0 Actual: 4\n",
            "prediction: 1 Actual: 1\n",
            "prediction: 0 Actual: 0\n",
            "prediction: 5 Actual: 5\n",
            "prediction: 3 Actual: 3\n",
            "prediction: 4 Actual: 4\n",
            "prediction: 8 Actual: 8\n",
            "prediction: 5 Actual: 5\n",
            "prediction: 7 Actual: 7\n",
            "prediction: 5 Actual: 5\n",
            "prediction: 6 Actual: 0\n",
            "prediction: 9 Actual: 9\n",
            "prediction: 6 Actual: 6\n",
            "prediction: 8 Actual: 8\n",
            "prediction: 8 Actual: 8\n",
            "prediction: 9 Actual: 9\n",
            "prediction: 8 Actual: 8\n",
            "prediction: 9 Actual: 9\n",
            "prediction: 8 Actual: 8\n",
            "prediction: 4 Actual: 4\n",
            "prediction: 2 Actual: 2\n",
            "prediction: 1 Actual: 1\n",
            "prediction: 9 Actual: 9\n",
            "prediction: 4 Actual: 4\n",
            "prediction: 9 Actual: 9\n",
            "prediction: 0 Actual: 0\n",
            "prediction: 4 Actual: 4\n",
            "prediction: 3 Actual: 3\n",
            "prediction: 1 Actual: 1\n",
            "prediction: 6 Actual: 6\n",
            "prediction: 1 Actual: 1\n",
            "prediction: 4 Actual: 4\n",
            "prediction: 9 Actual: 9\n",
            "prediction: 6 Actual: 6\n",
            "prediction: 8 Actual: 8\n",
            "prediction: 9 Actual: 9\n",
            "prediction: 6 Actual: 6\n",
            "prediction: 9 Actual: 9\n",
            "prediction: 2 Actual: 2\n",
            "prediction: 6 Actual: 6\n",
            "prediction: 3 Actual: 3\n",
            "prediction: 4 Actual: 4\n",
            "prediction: 5 Actual: 5\n",
            "prediction: 6 Actual: 6\n",
            "prediction: 7 Actual: 7\n",
            "prediction: 5 Actual: 5\n",
            "prediction: 4 Actual: 4\n",
            "prediction: 0 Actual: 0\n",
            "prediction: 0 Actual: 0\n",
            "prediction: 6 Actual: 6\n",
            "prediction: 0 Actual: 0\n",
            "prediction: 1 Actual: 1\n",
            "prediction: 2 Actual: 2\n",
            "prediction: 3 Actual: 3\n",
            "prediction: 4 Actual: 4\n",
            "prediction: 2 Actual: 2\n",
            "prediction: 9 Actual: 9\n",
            "prediction: 3 Actual: 3\n",
            "prediction: 2 Actual: 2\n",
            "prediction: 1 Actual: 1\n",
            "prediction: 4 Actual: 4\n",
            "prediction: 4 Actual: 4\n",
            "prediction: 9 Actual: 9\n",
            "prediction: 8 Actual: 8\n",
            "prediction: 5 Actual: 5\n",
            "prediction: 9 Actual: 9\n",
            "prediction: 3 Actual: 3\n",
            "prediction: 9 Actual: 9\n",
            "prediction: 3 Actual: 3\n",
            "prediction: 0 Actual: 0\n",
            "prediction: 9 Actual: 9\n",
            "prediction: 4 Actual: 4\n",
            "prediction: 3 Actual: 3\n",
            "prediction: 6 Actual: 6\n",
            "prediction: 2 Actual: 2\n",
            "prediction: 4 Actual: 4\n",
            "prediction: 6 Actual: 5\n",
            "prediction: 6 Actual: 6\n",
            "prediction: 7 Actual: 7\n",
            "prediction: 8 Actual: 8\n",
            "prediction: 1 Actual: 1\n",
            "prediction: 2 Actual: 2\n",
            "prediction: 3 Actual: 3\n",
            "prediction: 4 Actual: 4\n",
            "prediction: 5 Actual: 5\n"
          ]
        }
      ]
    },
    {
      "cell_type": "markdown",
      "source": [
        "This is the test on some sets of data from the test dataset which shows which predictions are correct and which are not value by value."
      ],
      "metadata": {
        "id": "fmkrd41HmOuA"
      }
    },
    {
      "cell_type": "code",
      "source": [
        "print(c)"
      ],
      "metadata": {
        "id": "xb9_ZQQmZAQt",
        "colab": {
          "base_uri": "https://localhost:8080/"
        },
        "outputId": "7b5d39f2-4f65-42ed-fe3e-ce9c4c5c9ecb"
      },
      "execution_count": null,
      "outputs": [
        {
          "output_type": "stream",
          "name": "stdout",
          "text": [
            "7\n"
          ]
        }
      ]
    },
    {
      "cell_type": "markdown",
      "source": [
        "This is the number of errors in the above test.\n",
        "\n"
      ],
      "metadata": {
        "id": "fIVZyyZcmdHX"
      }
    },
    {
      "cell_type": "code",
      "source": [
        "error = c/200*100\n",
        "print(error,'%',sep='')"
      ],
      "metadata": {
        "colab": {
          "base_uri": "https://localhost:8080/"
        },
        "id": "qchkSvDO-8wW",
        "outputId": "acea52d8-1bb7-4e53-f0e1-ae756c171fbf"
      },
      "execution_count": null,
      "outputs": [
        {
          "output_type": "stream",
          "name": "stdout",
          "text": [
            "3.5000000000000004%\n"
          ]
        }
      ]
    },
    {
      "cell_type": "markdown",
      "source": [
        "This is the error percentage in the above run as there are 40 values in 1 set and which gives 200 in 5 sets."
      ],
      "metadata": {
        "id": "yVYpR_LFmieI"
      }
    },
    {
      "cell_type": "markdown",
      "source": [
        "\n",
        "\n",
        "---\n",
        "\n",
        "\n",
        "---\n",
        "\n",
        "\n",
        "\n",
        "# **NEURAL NETWORK IEEE FINAL ROUND**\n",
        "\n",
        "I took a few different approaches while creating the model and arrived at the result.\n",
        "\n",
        "I built the the system which takes an input of 784 units as it is the number of pixels in one MNIST picture as it has 28x28 pixels.\n",
        "\n",
        "After this I created 2 hidden layers of 32 neurons each which in the end gives a result by selecting 1 out of the final 10 options in the output layer.\n",
        "\n",
        "2 layers had a much better output with respect to 1 as it increased the accuracy by helping compare more aspects of the data.\n",
        "\n",
        "I tried using different optimizers and decided to go with the SGD momentum instead of adam.\n",
        "\n",
        "I am using cross entropy loss function. This function penalizes the high confidence wrong values but also low confidence correct values. Which would give the model a better chance to predict data with higher confidence and thus increasing accuracy.\n",
        "\n",
        "For overfitting and underfitting I created a loop which first trains the data and tests it after each run and calculates the accuracy. When the accuracy remains constant for more than 2 iterations or the accuracy reduces it breaks the loop and we get the final model.\n",
        "\n",
        "Sometimes the accuracy decreases for 1 iteration but increases in the iteration just after so I decided to run the loop twice to minimise this unexpected error.\n",
        "\n",
        "I tried minimising the loss but it did directly corelate with the accuracy as on few occasions the accuracy decreased with decrease in loss.\n",
        "\n",
        "In the end I saved and called the model and ran a few sets of testing data and got most of the predictions right."
      ],
      "metadata": {
        "id": "rTs2xBSoI7CM"
      }
    }
  ]
}